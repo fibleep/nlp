{
 "cells": [
  {
   "cell_type": "code",
   "execution_count": 1,
   "metadata": {},
   "outputs": [
    {
     "ename": "ModuleNotFoundError",
     "evalue": "No module named 'pandas'",
     "output_type": "error",
     "traceback": [
      "\u001b[0;31m---------------------------------------------------------------------------\u001b[0m",
      "\u001b[0;31mModuleNotFoundError\u001b[0m                       Traceback (most recent call last)",
      "\u001b[1;32m/Users/fifi/Repositories/School/data/nlp/wikipedia.ipynb Cell 1\u001b[0m line \u001b[0;36m2\n\u001b[1;32m      <a href='vscode-notebook-cell:/Users/fifi/Repositories/School/data/nlp/wikipedia.ipynb#W0sZmlsZQ%3D%3D?line=0'>1</a>\u001b[0m \u001b[39m## for data\u001b[39;00m\n\u001b[0;32m----> <a href='vscode-notebook-cell:/Users/fifi/Repositories/School/data/nlp/wikipedia.ipynb#W0sZmlsZQ%3D%3D?line=1'>2</a>\u001b[0m \u001b[39mimport\u001b[39;00m \u001b[39mpandas\u001b[39;00m \u001b[39mas\u001b[39;00m \u001b[39mpd\u001b[39;00m  \u001b[39m#1.1.5\u001b[39;00m\n\u001b[1;32m      <a href='vscode-notebook-cell:/Users/fifi/Repositories/School/data/nlp/wikipedia.ipynb#W0sZmlsZQ%3D%3D?line=2'>3</a>\u001b[0m \u001b[39mimport\u001b[39;00m \u001b[39mnumpy\u001b[39;00m \u001b[39mas\u001b[39;00m \u001b[39mnp\u001b[39;00m  \u001b[39m#1.21.0\u001b[39;00m\n\u001b[1;32m      <a href='vscode-notebook-cell:/Users/fifi/Repositories/School/data/nlp/wikipedia.ipynb#W0sZmlsZQ%3D%3D?line=4'>5</a>\u001b[0m \u001b[39m## for plotting\u001b[39;00m\n",
      "\u001b[0;31mModuleNotFoundError\u001b[0m: No module named 'pandas'"
     ]
    }
   ],
   "source": [
    "## for data\n",
    "import pandas as pd  #1.1.5\n",
    "import numpy as np  #1.21.0\n",
    "\n",
    "## for plotting\n",
    "import matplotlib.pyplot as plt  #3.3.2\n",
    "\n",
    "## for text\n",
    "import wikipediaapi  #0.5.8\n",
    "import nltk  #3.8.1\n",
    "import re   \n",
    "\n",
    "## for nlp\n",
    "import spacy  #3.5.0\n",
    "from spacy import displacy\n",
    "import textacy  #0.12.0\n",
    "\n",
    "## for graph\n",
    "import networkx as nx  #3.0 (also pygraphviz==1.10)\n",
    "\n",
    "## for timeline\n",
    "import dateparser #1.1.7"
   ]
  }
 ],
 "metadata": {
  "kernelspec": {
   "display_name": ".venv",
   "language": "python",
   "name": "python3"
  },
  "language_info": {
   "codemirror_mode": {
    "name": "ipython",
    "version": 3
   },
   "file_extension": ".py",
   "mimetype": "text/x-python",
   "name": "python",
   "nbconvert_exporter": "python",
   "pygments_lexer": "ipython3",
   "version": "3.11.5"
  },
  "orig_nbformat": 4
 },
 "nbformat": 4,
 "nbformat_minor": 2
}
